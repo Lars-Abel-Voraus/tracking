{
 "cells": [
  {
   "cell_type": "code",
   "execution_count": 1,
   "id": "36094e47-f66c-4d76-86e3-32db7842a39d",
   "metadata": {},
   "outputs": [],
   "source": [
    "from stonesoup.types.groundtruth import GroundTruthPath, GroundTruthState"
   ]
  },
  {
   "cell_type": "code",
   "execution_count": null,
   "id": "f365e346-c4a5-481f-9117-eab4c1a28b45",
   "metadata": {},
   "outputs": [],
   "source": []
  },
  {
   "cell_type": "code",
   "execution_count": null,
   "id": "cbd1a214-1db2-466e-ae5f-e0eece0b4a5a",
   "metadata": {},
   "outputs": [],
   "source": []
  }
 ],
 "metadata": {
  "kernelspec": {
   "display_name": "Python 3 (ipykernel)",
   "language": "python",
   "name": "python3"
  },
  "language_info": {
   "codemirror_mode": {
    "name": "ipython",
    "version": 3
   },
   "file_extension": ".py",
   "mimetype": "text/x-python",
   "name": "python",
   "nbconvert_exporter": "python",
   "pygments_lexer": "ipython3",
   "version": "3.10.4"
  }
 },
 "nbformat": 4,
 "nbformat_minor": 5
}
